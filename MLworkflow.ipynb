{
 "cells": [
  {
   "cell_type": "markdown",
   "metadata": {},
   "source": [
    "# Basic ML workflow"
   ]
  },
  {
   "cell_type": "markdown",
   "metadata": {},
   "source": [
    "<h1>Data Pre-Processing before applying ML Models</h1>\n",
    "<ul>\n",
    "<li>Handling missing values</li>\n",
    "<li>Handling non-numeric data (handling categorical, ordinal variables and strings)</li>\n",
    "<li>Feature engineering and creating new features out of existing features.</li>\n",
    "<li>Extracting only useful and relevant features: Feature selection</li>\n",
    "<li>Remove features with missing values above a particular threshold</li>\n",
    "<li>Splitting data into Training and test sets</li>\n",
    "<li>Checking for Class imbalance and tackling it</li>\n",
    "<li>Standard scaling of data</li>\n",
    "</ul>"
   ]
  },
  {
   "cell_type": "code",
   "execution_count": 5,
   "metadata": {},
   "outputs": [],
   "source": [
    "import pandas as pd\n",
    "import numpy  as np"
   ]
  },
  {
   "cell_type": "markdown",
   "metadata": {},
   "source": [
    "# Creating a random database to depict the data cleaning procedures"
   ]
  },
  {
   "cell_type": "code",
   "execution_count": 10,
   "metadata": {},
   "outputs": [],
   "source": [
    "df = pd.DataFrame({\n",
    "    'Default': [1,0,0,0,0,0,1],\n",
    "    'Income': [250000,400000,'NAN',440000,500000,700000,800000],\n",
    "    'Age': [20,30, 40,35,25,40,'NAN'],\n",
    "    'Name':['Allen','Sara','Lily','Rock','David','Rose','Mat'],\n",
    "    'Gender': ['M','F','F','M','M','F','M'],\n",
    "    'Type of job': ['Skilled','Unskilled','Super skilled','Super skilled','NAN','Skilled','Skilled'],\n",
    "    'Amt of credit':['NAN',30000,50000,80000,40000,100000,300000],\n",
    "    'Years employed':[1,10,12,6,4,13,12]})\n"
   ]
  },
  {
   "cell_type": "code",
   "execution_count": 11,
   "metadata": {},
   "outputs": [
    {
     "data": {
      "text/plain": [
       "Index(['Default', 'Income', 'Age', 'Name', 'Gender', 'Type of job',\n",
       "       'Amt of credit', 'Years employed'],\n",
       "      dtype='object')"
      ]
     },
     "execution_count": 11,
     "metadata": {},
     "output_type": "execute_result"
    }
   ],
   "source": [
    "df.columns"
   ]
  },
  {
   "cell_type": "code",
   "execution_count": 12,
   "metadata": {},
   "outputs": [],
   "source": [
    "df=df.replace('NAN',np.NaN)"
   ]
  },
  {
   "cell_type": "code",
   "execution_count": 13,
   "metadata": {},
   "outputs": [
    {
     "data": {
      "text/html": [
       "<div>\n",
       "<style scoped>\n",
       "    .dataframe tbody tr th:only-of-type {\n",
       "        vertical-align: middle;\n",
       "    }\n",
       "\n",
       "    .dataframe tbody tr th {\n",
       "        vertical-align: top;\n",
       "    }\n",
       "\n",
       "    .dataframe thead th {\n",
       "        text-align: right;\n",
       "    }\n",
       "</style>\n",
       "<table border=\"1\" class=\"dataframe\">\n",
       "  <thead>\n",
       "    <tr style=\"text-align: right;\">\n",
       "      <th></th>\n",
       "      <th>Default</th>\n",
       "      <th>Income</th>\n",
       "      <th>Age</th>\n",
       "      <th>Name</th>\n",
       "      <th>Gender</th>\n",
       "      <th>Type of job</th>\n",
       "      <th>Amt of credit</th>\n",
       "      <th>Years employed</th>\n",
       "    </tr>\n",
       "  </thead>\n",
       "  <tbody>\n",
       "    <tr>\n",
       "      <th>0</th>\n",
       "      <td>1</td>\n",
       "      <td>250000.0</td>\n",
       "      <td>20.0</td>\n",
       "      <td>Allen</td>\n",
       "      <td>M</td>\n",
       "      <td>Skilled</td>\n",
       "      <td>NaN</td>\n",
       "      <td>1</td>\n",
       "    </tr>\n",
       "    <tr>\n",
       "      <th>1</th>\n",
       "      <td>0</td>\n",
       "      <td>400000.0</td>\n",
       "      <td>30.0</td>\n",
       "      <td>Sara</td>\n",
       "      <td>F</td>\n",
       "      <td>Unskilled</td>\n",
       "      <td>30000.0</td>\n",
       "      <td>10</td>\n",
       "    </tr>\n",
       "    <tr>\n",
       "      <th>2</th>\n",
       "      <td>0</td>\n",
       "      <td>NaN</td>\n",
       "      <td>40.0</td>\n",
       "      <td>Lily</td>\n",
       "      <td>F</td>\n",
       "      <td>Super skilled</td>\n",
       "      <td>50000.0</td>\n",
       "      <td>12</td>\n",
       "    </tr>\n",
       "    <tr>\n",
       "      <th>3</th>\n",
       "      <td>0</td>\n",
       "      <td>440000.0</td>\n",
       "      <td>35.0</td>\n",
       "      <td>Rock</td>\n",
       "      <td>M</td>\n",
       "      <td>Super skilled</td>\n",
       "      <td>80000.0</td>\n",
       "      <td>6</td>\n",
       "    </tr>\n",
       "    <tr>\n",
       "      <th>4</th>\n",
       "      <td>0</td>\n",
       "      <td>500000.0</td>\n",
       "      <td>25.0</td>\n",
       "      <td>David</td>\n",
       "      <td>M</td>\n",
       "      <td>NaN</td>\n",
       "      <td>40000.0</td>\n",
       "      <td>4</td>\n",
       "    </tr>\n",
       "    <tr>\n",
       "      <th>5</th>\n",
       "      <td>0</td>\n",
       "      <td>700000.0</td>\n",
       "      <td>40.0</td>\n",
       "      <td>Rose</td>\n",
       "      <td>F</td>\n",
       "      <td>Skilled</td>\n",
       "      <td>100000.0</td>\n",
       "      <td>13</td>\n",
       "    </tr>\n",
       "    <tr>\n",
       "      <th>6</th>\n",
       "      <td>1</td>\n",
       "      <td>800000.0</td>\n",
       "      <td>NaN</td>\n",
       "      <td>Mat</td>\n",
       "      <td>M</td>\n",
       "      <td>Skilled</td>\n",
       "      <td>300000.0</td>\n",
       "      <td>12</td>\n",
       "    </tr>\n",
       "  </tbody>\n",
       "</table>\n",
       "</div>"
      ],
      "text/plain": [
       "   Default    Income   Age   Name Gender    Type of job  Amt of credit  \\\n",
       "0        1  250000.0  20.0  Allen      M        Skilled            NaN   \n",
       "1        0  400000.0  30.0   Sara      F      Unskilled        30000.0   \n",
       "2        0       NaN  40.0   Lily      F  Super skilled        50000.0   \n",
       "3        0  440000.0  35.0   Rock      M  Super skilled        80000.0   \n",
       "4        0  500000.0  25.0  David      M            NaN        40000.0   \n",
       "5        0  700000.0  40.0   Rose      F        Skilled       100000.0   \n",
       "6        1  800000.0   NaN    Mat      M        Skilled       300000.0   \n",
       "\n",
       "   Years employed  \n",
       "0               1  \n",
       "1              10  \n",
       "2              12  \n",
       "3               6  \n",
       "4               4  \n",
       "5              13  \n",
       "6              12  "
      ]
     },
     "execution_count": 13,
     "metadata": {},
     "output_type": "execute_result"
    }
   ],
   "source": [
    "df"
   ]
  },
  {
   "cell_type": "markdown",
   "metadata": {},
   "source": [
    "# Implementing test train split method"
   ]
  },
  {
   "cell_type": "code",
   "execution_count": 39,
   "metadata": {},
   "outputs": [],
   "source": [
    "X=df.drop('Default', axis=1)\n",
    "y=df['Default']\n",
    "# implementing train-test-split\n",
    "from sklearn.model_selection import train_test_split"
   ]
  },
  {
   "cell_type": "markdown",
   "metadata": {},
   "source": [
    "# 1.1) Handling missing values"
   ]
  },
  {
   "cell_type": "code",
   "execution_count": 40,
   "metadata": {},
   "outputs": [],
   "source": [
    "#original order of columns\n",
    "cols = X.columns\n",
    "\n",
    "X_numeric=X.select_dtypes(include=['int', 'float']).columns\n",
    "#joined columns numeric and non numeric\n",
    "X_non_numeric=X.select_dtypes(exclude=['int', 'float']).columns\n",
    "new = X_numeric.tolist() + X_non_numeric.tolist()"
   ]
  },
  {
   "cell_type": "code",
   "execution_count": 41,
   "metadata": {},
   "outputs": [
    {
     "data": {
      "text/plain": [
       "Index(['Income', 'Age', 'Amt of credit'], dtype='object')"
      ]
     },
     "execution_count": 41,
     "metadata": {},
     "output_type": "execute_result"
    }
   ],
   "source": [
    "X_numeric"
   ]
  },
  {
   "cell_type": "code",
   "execution_count": 42,
   "metadata": {},
   "outputs": [
    {
     "data": {
      "text/plain": [
       "Index(['Name', 'Gender', 'Type of job', 'Years employed'], dtype='object')"
      ]
     },
     "execution_count": 42,
     "metadata": {},
     "output_type": "execute_result"
    }
   ],
   "source": [
    "X_non_numeric"
   ]
  },
  {
   "cell_type": "code",
   "execution_count": 43,
   "metadata": {},
   "outputs": [
    {
     "data": {
      "text/plain": [
       "['Income',\n",
       " 'Age',\n",
       " 'Amt of credit',\n",
       " 'Name',\n",
       " 'Gender',\n",
       " 'Type of job',\n",
       " 'Years employed']"
      ]
     },
     "execution_count": 43,
     "metadata": {},
     "output_type": "execute_result"
    }
   ],
   "source": [
    "new"
   ]
  },
  {
   "cell_type": "code",
   "execution_count": 44,
   "metadata": {},
   "outputs": [],
   "source": [
    "from sklearn.impute import SimpleImputer\n",
    "from sklearn.compose import ColumnTransformer\n",
    "\n",
    "t = [('num', SimpleImputer(strategy='median'), X_numeric),\n",
    "('cat', SimpleImputer(strategy='most_frequent'), X_non_numeric)]\n",
    "\n",
    "\n",
    "transformer = ColumnTransformer(transformers=t, remainder='passthrough')\n",
    "\n",
    "X = transformer.fit_transform(X) #numpy array\n",
    "\n",
    "#DataFrame constructor with new columns names and added reindex for change by original order\n",
    "X = pd.DataFrame(X, columns=new).reindex(cols, axis=1)"
   ]
  },
  {
   "cell_type": "code",
   "execution_count": 45,
   "metadata": {},
   "outputs": [
    {
     "data": {
      "text/html": [
       "<div>\n",
       "<style scoped>\n",
       "    .dataframe tbody tr th:only-of-type {\n",
       "        vertical-align: middle;\n",
       "    }\n",
       "\n",
       "    .dataframe tbody tr th {\n",
       "        vertical-align: top;\n",
       "    }\n",
       "\n",
       "    .dataframe thead th {\n",
       "        text-align: right;\n",
       "    }\n",
       "</style>\n",
       "<table border=\"1\" class=\"dataframe\">\n",
       "  <thead>\n",
       "    <tr style=\"text-align: right;\">\n",
       "      <th></th>\n",
       "      <th>Income</th>\n",
       "      <th>Age</th>\n",
       "      <th>Name</th>\n",
       "      <th>Gender</th>\n",
       "      <th>Type of job</th>\n",
       "      <th>Amt of credit</th>\n",
       "      <th>Years employed</th>\n",
       "    </tr>\n",
       "  </thead>\n",
       "  <tbody>\n",
       "    <tr>\n",
       "      <th>0</th>\n",
       "      <td>250000</td>\n",
       "      <td>20</td>\n",
       "      <td>Allen</td>\n",
       "      <td>M</td>\n",
       "      <td>Skilled</td>\n",
       "      <td>65000</td>\n",
       "      <td>1</td>\n",
       "    </tr>\n",
       "    <tr>\n",
       "      <th>1</th>\n",
       "      <td>400000</td>\n",
       "      <td>30</td>\n",
       "      <td>Sara</td>\n",
       "      <td>F</td>\n",
       "      <td>Unskilled</td>\n",
       "      <td>30000</td>\n",
       "      <td>10</td>\n",
       "    </tr>\n",
       "    <tr>\n",
       "      <th>2</th>\n",
       "      <td>470000</td>\n",
       "      <td>40</td>\n",
       "      <td>Lily</td>\n",
       "      <td>F</td>\n",
       "      <td>Super skilled</td>\n",
       "      <td>50000</td>\n",
       "      <td>12</td>\n",
       "    </tr>\n",
       "    <tr>\n",
       "      <th>3</th>\n",
       "      <td>440000</td>\n",
       "      <td>35</td>\n",
       "      <td>Rock</td>\n",
       "      <td>M</td>\n",
       "      <td>Super skilled</td>\n",
       "      <td>80000</td>\n",
       "      <td>6</td>\n",
       "    </tr>\n",
       "    <tr>\n",
       "      <th>4</th>\n",
       "      <td>500000</td>\n",
       "      <td>25</td>\n",
       "      <td>David</td>\n",
       "      <td>M</td>\n",
       "      <td>Skilled</td>\n",
       "      <td>40000</td>\n",
       "      <td>4</td>\n",
       "    </tr>\n",
       "    <tr>\n",
       "      <th>5</th>\n",
       "      <td>700000</td>\n",
       "      <td>40</td>\n",
       "      <td>Rose</td>\n",
       "      <td>F</td>\n",
       "      <td>Skilled</td>\n",
       "      <td>100000</td>\n",
       "      <td>13</td>\n",
       "    </tr>\n",
       "    <tr>\n",
       "      <th>6</th>\n",
       "      <td>800000</td>\n",
       "      <td>32.5</td>\n",
       "      <td>Mat</td>\n",
       "      <td>M</td>\n",
       "      <td>Skilled</td>\n",
       "      <td>300000</td>\n",
       "      <td>12</td>\n",
       "    </tr>\n",
       "  </tbody>\n",
       "</table>\n",
       "</div>"
      ],
      "text/plain": [
       "   Income   Age   Name Gender    Type of job Amt of credit Years employed\n",
       "0  250000    20  Allen      M        Skilled         65000              1\n",
       "1  400000    30   Sara      F      Unskilled         30000             10\n",
       "2  470000    40   Lily      F  Super skilled         50000             12\n",
       "3  440000    35   Rock      M  Super skilled         80000              6\n",
       "4  500000    25  David      M        Skilled         40000              4\n",
       "5  700000    40   Rose      F        Skilled        100000             13\n",
       "6  800000  32.5    Mat      M        Skilled        300000             12"
      ]
     },
     "execution_count": 45,
     "metadata": {},
     "output_type": "execute_result"
    }
   ],
   "source": [
    "X"
   ]
  },
  {
   "cell_type": "markdown",
   "metadata": {},
   "source": [
    "# 1.2 Handling non-numeric data"
   ]
  },
  {
   "cell_type": "markdown",
   "metadata": {},
   "source": [
    "<h2>Handling categorical data</h2>"
   ]
  },
  {
   "cell_type": "code",
   "execution_count": 46,
   "metadata": {},
   "outputs": [],
   "source": [
    "from sklearn.preprocessing import OneHotEncoder\n",
    "onehotencoder = pd.get_dummies(X['Gender'], drop_first=True)\n",
    "# Drop column non_numeric_col as it is now encoded\n",
    "X = X.drop('Gender',axis = 1)\n",
    "# Join the encoded dataframe to X_train\n",
    "X = X.join(onehotencoder)"
   ]
  },
  {
   "cell_type": "code",
   "execution_count": 47,
   "metadata": {},
   "outputs": [
    {
     "data": {
      "text/html": [
       "<div>\n",
       "<style scoped>\n",
       "    .dataframe tbody tr th:only-of-type {\n",
       "        vertical-align: middle;\n",
       "    }\n",
       "\n",
       "    .dataframe tbody tr th {\n",
       "        vertical-align: top;\n",
       "    }\n",
       "\n",
       "    .dataframe thead th {\n",
       "        text-align: right;\n",
       "    }\n",
       "</style>\n",
       "<table border=\"1\" class=\"dataframe\">\n",
       "  <thead>\n",
       "    <tr style=\"text-align: right;\">\n",
       "      <th></th>\n",
       "      <th>Income</th>\n",
       "      <th>Age</th>\n",
       "      <th>Name</th>\n",
       "      <th>Type of job</th>\n",
       "      <th>Amt of credit</th>\n",
       "      <th>Years employed</th>\n",
       "      <th>M</th>\n",
       "    </tr>\n",
       "  </thead>\n",
       "  <tbody>\n",
       "    <tr>\n",
       "      <th>0</th>\n",
       "      <td>250000</td>\n",
       "      <td>20</td>\n",
       "      <td>Allen</td>\n",
       "      <td>Skilled</td>\n",
       "      <td>65000</td>\n",
       "      <td>1</td>\n",
       "      <td>1</td>\n",
       "    </tr>\n",
       "    <tr>\n",
       "      <th>1</th>\n",
       "      <td>400000</td>\n",
       "      <td>30</td>\n",
       "      <td>Sara</td>\n",
       "      <td>Unskilled</td>\n",
       "      <td>30000</td>\n",
       "      <td>10</td>\n",
       "      <td>0</td>\n",
       "    </tr>\n",
       "    <tr>\n",
       "      <th>2</th>\n",
       "      <td>470000</td>\n",
       "      <td>40</td>\n",
       "      <td>Lily</td>\n",
       "      <td>Super skilled</td>\n",
       "      <td>50000</td>\n",
       "      <td>12</td>\n",
       "      <td>0</td>\n",
       "    </tr>\n",
       "    <tr>\n",
       "      <th>3</th>\n",
       "      <td>440000</td>\n",
       "      <td>35</td>\n",
       "      <td>Rock</td>\n",
       "      <td>Super skilled</td>\n",
       "      <td>80000</td>\n",
       "      <td>6</td>\n",
       "      <td>1</td>\n",
       "    </tr>\n",
       "    <tr>\n",
       "      <th>4</th>\n",
       "      <td>500000</td>\n",
       "      <td>25</td>\n",
       "      <td>David</td>\n",
       "      <td>Skilled</td>\n",
       "      <td>40000</td>\n",
       "      <td>4</td>\n",
       "      <td>1</td>\n",
       "    </tr>\n",
       "    <tr>\n",
       "      <th>5</th>\n",
       "      <td>700000</td>\n",
       "      <td>40</td>\n",
       "      <td>Rose</td>\n",
       "      <td>Skilled</td>\n",
       "      <td>100000</td>\n",
       "      <td>13</td>\n",
       "      <td>0</td>\n",
       "    </tr>\n",
       "    <tr>\n",
       "      <th>6</th>\n",
       "      <td>800000</td>\n",
       "      <td>32.5</td>\n",
       "      <td>Mat</td>\n",
       "      <td>Skilled</td>\n",
       "      <td>300000</td>\n",
       "      <td>12</td>\n",
       "      <td>1</td>\n",
       "    </tr>\n",
       "  </tbody>\n",
       "</table>\n",
       "</div>"
      ],
      "text/plain": [
       "   Income   Age   Name    Type of job Amt of credit Years employed  M\n",
       "0  250000    20  Allen        Skilled         65000              1  1\n",
       "1  400000    30   Sara      Unskilled         30000             10  0\n",
       "2  470000    40   Lily  Super skilled         50000             12  0\n",
       "3  440000    35   Rock  Super skilled         80000              6  1\n",
       "4  500000    25  David        Skilled         40000              4  1\n",
       "5  700000    40   Rose        Skilled        100000             13  0\n",
       "6  800000  32.5    Mat        Skilled        300000             12  1"
      ]
     },
     "execution_count": 47,
     "metadata": {},
     "output_type": "execute_result"
    }
   ],
   "source": [
    "X"
   ]
  },
  {
   "cell_type": "markdown",
   "metadata": {},
   "source": [
    "<h2>Handling ordinal Data</h2>"
   ]
  },
  {
   "cell_type": "code",
   "execution_count": 48,
   "metadata": {},
   "outputs": [],
   "source": [
    "\n",
    "X['Type of job'] = X['Type of job'].map( {'Super skilled':3, 'Skilled':2, 'Unskilled':1})"
   ]
  },
  {
   "cell_type": "code",
   "execution_count": 49,
   "metadata": {},
   "outputs": [
    {
     "data": {
      "text/html": [
       "<div>\n",
       "<style scoped>\n",
       "    .dataframe tbody tr th:only-of-type {\n",
       "        vertical-align: middle;\n",
       "    }\n",
       "\n",
       "    .dataframe tbody tr th {\n",
       "        vertical-align: top;\n",
       "    }\n",
       "\n",
       "    .dataframe thead th {\n",
       "        text-align: right;\n",
       "    }\n",
       "</style>\n",
       "<table border=\"1\" class=\"dataframe\">\n",
       "  <thead>\n",
       "    <tr style=\"text-align: right;\">\n",
       "      <th></th>\n",
       "      <th>Income</th>\n",
       "      <th>Age</th>\n",
       "      <th>Name</th>\n",
       "      <th>Type of job</th>\n",
       "      <th>Amt of credit</th>\n",
       "      <th>Years employed</th>\n",
       "      <th>M</th>\n",
       "    </tr>\n",
       "  </thead>\n",
       "  <tbody>\n",
       "    <tr>\n",
       "      <th>0</th>\n",
       "      <td>250000</td>\n",
       "      <td>20</td>\n",
       "      <td>Allen</td>\n",
       "      <td>2</td>\n",
       "      <td>65000</td>\n",
       "      <td>1</td>\n",
       "      <td>1</td>\n",
       "    </tr>\n",
       "    <tr>\n",
       "      <th>1</th>\n",
       "      <td>400000</td>\n",
       "      <td>30</td>\n",
       "      <td>Sara</td>\n",
       "      <td>1</td>\n",
       "      <td>30000</td>\n",
       "      <td>10</td>\n",
       "      <td>0</td>\n",
       "    </tr>\n",
       "    <tr>\n",
       "      <th>2</th>\n",
       "      <td>470000</td>\n",
       "      <td>40</td>\n",
       "      <td>Lily</td>\n",
       "      <td>3</td>\n",
       "      <td>50000</td>\n",
       "      <td>12</td>\n",
       "      <td>0</td>\n",
       "    </tr>\n",
       "    <tr>\n",
       "      <th>3</th>\n",
       "      <td>440000</td>\n",
       "      <td>35</td>\n",
       "      <td>Rock</td>\n",
       "      <td>3</td>\n",
       "      <td>80000</td>\n",
       "      <td>6</td>\n",
       "      <td>1</td>\n",
       "    </tr>\n",
       "    <tr>\n",
       "      <th>4</th>\n",
       "      <td>500000</td>\n",
       "      <td>25</td>\n",
       "      <td>David</td>\n",
       "      <td>2</td>\n",
       "      <td>40000</td>\n",
       "      <td>4</td>\n",
       "      <td>1</td>\n",
       "    </tr>\n",
       "    <tr>\n",
       "      <th>5</th>\n",
       "      <td>700000</td>\n",
       "      <td>40</td>\n",
       "      <td>Rose</td>\n",
       "      <td>2</td>\n",
       "      <td>100000</td>\n",
       "      <td>13</td>\n",
       "      <td>0</td>\n",
       "    </tr>\n",
       "    <tr>\n",
       "      <th>6</th>\n",
       "      <td>800000</td>\n",
       "      <td>32.5</td>\n",
       "      <td>Mat</td>\n",
       "      <td>2</td>\n",
       "      <td>300000</td>\n",
       "      <td>12</td>\n",
       "      <td>1</td>\n",
       "    </tr>\n",
       "  </tbody>\n",
       "</table>\n",
       "</div>"
      ],
      "text/plain": [
       "   Income   Age   Name  Type of job Amt of credit Years employed  M\n",
       "0  250000    20  Allen            2         65000              1  1\n",
       "1  400000    30   Sara            1         30000             10  0\n",
       "2  470000    40   Lily            3         50000             12  0\n",
       "3  440000    35   Rock            3         80000              6  1\n",
       "4  500000    25  David            2         40000              4  1\n",
       "5  700000    40   Rose            2        100000             13  0\n",
       "6  800000  32.5    Mat            2        300000             12  1"
      ]
     },
     "execution_count": 49,
     "metadata": {},
     "output_type": "execute_result"
    }
   ],
   "source": [
    "X"
   ]
  },
  {
   "cell_type": "markdown",
   "metadata": {},
   "source": [
    "<h2>Handling string Data</h2>"
   ]
  },
  {
   "cell_type": "code",
   "execution_count": 50,
   "metadata": {},
   "outputs": [],
   "source": [
    "cols_remove=['Name']\n",
    "X = X.drop(cols_remove, axis=1)"
   ]
  },
  {
   "cell_type": "markdown",
   "metadata": {},
   "source": [
    "<h2>Feature Engineering</h2>"
   ]
  },
  {
   "cell_type": "code",
   "execution_count": 51,
   "metadata": {},
   "outputs": [],
   "source": [
    "X['Years employed percent'] = X['Years employed'] / X['Age']\n",
    "X['Credit Income percent'] = X['Amt of credit'] / X['Income']"
   ]
  },
  {
   "cell_type": "code",
   "execution_count": 52,
   "metadata": {},
   "outputs": [
    {
     "data": {
      "text/html": [
       "<div>\n",
       "<style scoped>\n",
       "    .dataframe tbody tr th:only-of-type {\n",
       "        vertical-align: middle;\n",
       "    }\n",
       "\n",
       "    .dataframe tbody tr th {\n",
       "        vertical-align: top;\n",
       "    }\n",
       "\n",
       "    .dataframe thead th {\n",
       "        text-align: right;\n",
       "    }\n",
       "</style>\n",
       "<table border=\"1\" class=\"dataframe\">\n",
       "  <thead>\n",
       "    <tr style=\"text-align: right;\">\n",
       "      <th></th>\n",
       "      <th>Income</th>\n",
       "      <th>Age</th>\n",
       "      <th>Type of job</th>\n",
       "      <th>Amt of credit</th>\n",
       "      <th>Years employed</th>\n",
       "      <th>M</th>\n",
       "      <th>Years employed percent</th>\n",
       "      <th>Credit Income percent</th>\n",
       "    </tr>\n",
       "  </thead>\n",
       "  <tbody>\n",
       "    <tr>\n",
       "      <th>0</th>\n",
       "      <td>250000</td>\n",
       "      <td>20</td>\n",
       "      <td>2</td>\n",
       "      <td>65000</td>\n",
       "      <td>1</td>\n",
       "      <td>1</td>\n",
       "      <td>0.05</td>\n",
       "      <td>0.26</td>\n",
       "    </tr>\n",
       "    <tr>\n",
       "      <th>1</th>\n",
       "      <td>400000</td>\n",
       "      <td>30</td>\n",
       "      <td>1</td>\n",
       "      <td>30000</td>\n",
       "      <td>10</td>\n",
       "      <td>0</td>\n",
       "      <td>0.333333</td>\n",
       "      <td>0.075</td>\n",
       "    </tr>\n",
       "    <tr>\n",
       "      <th>2</th>\n",
       "      <td>470000</td>\n",
       "      <td>40</td>\n",
       "      <td>3</td>\n",
       "      <td>50000</td>\n",
       "      <td>12</td>\n",
       "      <td>0</td>\n",
       "      <td>0.3</td>\n",
       "      <td>0.106383</td>\n",
       "    </tr>\n",
       "    <tr>\n",
       "      <th>3</th>\n",
       "      <td>440000</td>\n",
       "      <td>35</td>\n",
       "      <td>3</td>\n",
       "      <td>80000</td>\n",
       "      <td>6</td>\n",
       "      <td>1</td>\n",
       "      <td>0.171429</td>\n",
       "      <td>0.181818</td>\n",
       "    </tr>\n",
       "    <tr>\n",
       "      <th>4</th>\n",
       "      <td>500000</td>\n",
       "      <td>25</td>\n",
       "      <td>2</td>\n",
       "      <td>40000</td>\n",
       "      <td>4</td>\n",
       "      <td>1</td>\n",
       "      <td>0.16</td>\n",
       "      <td>0.08</td>\n",
       "    </tr>\n",
       "    <tr>\n",
       "      <th>5</th>\n",
       "      <td>700000</td>\n",
       "      <td>40</td>\n",
       "      <td>2</td>\n",
       "      <td>100000</td>\n",
       "      <td>13</td>\n",
       "      <td>0</td>\n",
       "      <td>0.325</td>\n",
       "      <td>0.142857</td>\n",
       "    </tr>\n",
       "    <tr>\n",
       "      <th>6</th>\n",
       "      <td>800000</td>\n",
       "      <td>32.5</td>\n",
       "      <td>2</td>\n",
       "      <td>300000</td>\n",
       "      <td>12</td>\n",
       "      <td>1</td>\n",
       "      <td>0.369231</td>\n",
       "      <td>0.375</td>\n",
       "    </tr>\n",
       "  </tbody>\n",
       "</table>\n",
       "</div>"
      ],
      "text/plain": [
       "   Income   Age  Type of job Amt of credit Years employed  M  \\\n",
       "0  250000    20            2         65000              1  1   \n",
       "1  400000    30            1         30000             10  0   \n",
       "2  470000    40            3         50000             12  0   \n",
       "3  440000    35            3         80000              6  1   \n",
       "4  500000    25            2         40000              4  1   \n",
       "5  700000    40            2        100000             13  0   \n",
       "6  800000  32.5            2        300000             12  1   \n",
       "\n",
       "  Years employed percent Credit Income percent  \n",
       "0                   0.05                  0.26  \n",
       "1               0.333333                 0.075  \n",
       "2                    0.3              0.106383  \n",
       "3               0.171429              0.181818  \n",
       "4                   0.16                  0.08  \n",
       "5                  0.325              0.142857  \n",
       "6               0.369231                 0.375  "
      ]
     },
     "execution_count": 52,
     "metadata": {},
     "output_type": "execute_result"
    }
   ],
   "source": [
    "X"
   ]
  },
  {
   "cell_type": "markdown",
   "metadata": {},
   "source": [
    "<h2>Feature selection</h2>"
   ]
  },
  {
   "cell_type": "code",
   "execution_count": 57,
   "metadata": {},
   "outputs": [
    {
     "name": "stdout",
     "output_type": "stream",
     "text": [
      "         Features          Score\n",
      "3   Amt of credit  225657.894737\n",
      "0          Income    1485.955056\n",
      "1             Age       2.699438\n",
      "4  Years employed       1.077586\n",
      "5               M       0.900000\n"
     ]
    }
   ],
   "source": [
    "#Selectkclass\n",
    "from sklearn.datasets import load_iris\n",
    "from sklearn.feature_selection import SelectKBest\n",
    "from sklearn.feature_selection import chi2\n",
    "\n",
    "bestfeatures = SelectKBest(score_func=chi2, k=5)\n",
    "fit = bestfeatures.fit(X,y)\n",
    "dfscores = pd.DataFrame(fit.scores_)\n",
    "dfcolumns = pd.DataFrame(X.columns)\n",
    "#concat two dataframes for better visualization \n",
    "featureScores = pd.concat([dfcolumns,dfscores],axis=1)\n",
    "featureScores.columns = ['Features','Score']  #naming the dataframe columns\n",
    "print(featureScores.nlargest(5,'Score')) "
   ]
  },
  {
   "cell_type": "markdown",
   "metadata": {},
   "source": [
    "<h2>Implementing test train split on training and test sets</h2>"
   ]
  },
  {
   "cell_type": "code",
   "execution_count": 58,
   "metadata": {},
   "outputs": [],
   "source": [
    "X_train, X_test, y_train, y_test = train_test_split(X, y, test_size=0.20, random_state=66)"
   ]
  },
  {
   "cell_type": "markdown",
   "metadata": {},
   "source": [
    "<h2>Scaling data</h2>"
   ]
  },
  {
   "cell_type": "code",
   "execution_count": 59,
   "metadata": {},
   "outputs": [],
   "source": [
    "from sklearn.preprocessing import StandardScaler\n",
    "\n",
    "sc = StandardScaler()\n",
    "X_train = sc.fit_transform(X_train)\n",
    "X_test=sc.transform(X_test)"
   ]
  },
  {
   "cell_type": "code",
   "execution_count": 60,
   "metadata": {},
   "outputs": [
    {
     "data": {
      "text/plain": [
       "array([[-0.85383608, -0.5       , -1.60356745, -0.69040111,  0.36927447,\n",
       "        -1.22474487,  0.77848636, -0.78882797],\n",
       "       [-0.36393013,  1.5       ,  1.06904497, -0.49314365,  0.98473193,\n",
       "        -1.22474487,  0.38847172, -0.50954428],\n",
       "       [-0.57388982,  0.5       ,  1.06904497, -0.19725746, -0.86164044,\n",
       "         0.81649658, -1.11587045,  0.16176938],\n",
       "       [ 1.94562648,  0.        , -0.26726124,  1.97257461,  0.98473193,\n",
       "         0.81649658,  1.19850212,  1.8809348 ],\n",
       "       [-0.15397044, -1.5       , -0.26726124, -0.59177238, -1.47709789,\n",
       "         0.81649658, -1.24958975, -0.74433193]])"
      ]
     },
     "execution_count": 60,
     "metadata": {},
     "output_type": "execute_result"
    }
   ],
   "source": [
    "X_train"
   ]
  },
  {
   "cell_type": "markdown",
   "metadata": {},
   "source": [
    "# Logistic Regression"
   ]
  },
  {
   "cell_type": "code",
   "execution_count": 61,
   "metadata": {},
   "outputs": [
    {
     "data": {
      "text/plain": [
       "LogisticRegression(random_state=0)"
      ]
     },
     "execution_count": 61,
     "metadata": {},
     "output_type": "execute_result"
    }
   ],
   "source": [
    "from sklearn.linear_model import LogisticRegression\n",
    "lr_clf = LogisticRegression(random_state = 0)\n",
    "lr_clf.fit(X_train, y_train)"
   ]
  },
  {
   "cell_type": "code",
   "execution_count": 62,
   "metadata": {},
   "outputs": [
    {
     "name": "stdout",
     "output_type": "stream",
     "text": [
      "Accuracy on training set: 1.0\n",
      "Accuracy on test set: 0.5\n"
     ]
    }
   ],
   "source": [
    "print('Accuracy on training set:',lr_clf.score(X_train,y_train))\n",
    "print('Accuracy on test set:',lr_clf.score(X_test,y_test))"
   ]
  },
  {
   "cell_type": "markdown",
   "metadata": {},
   "source": [
    "# Naive Bais"
   ]
  },
  {
   "cell_type": "code",
   "execution_count": 63,
   "metadata": {},
   "outputs": [
    {
     "data": {
      "text/plain": [
       "GaussianNB()"
      ]
     },
     "execution_count": 63,
     "metadata": {},
     "output_type": "execute_result"
    }
   ],
   "source": [
    "from sklearn.naive_bayes import GaussianNB\n",
    "nb_clf= GaussianNB()\n",
    "nb_clf.fit(X_train, y_train)"
   ]
  },
  {
   "cell_type": "code",
   "execution_count": 64,
   "metadata": {},
   "outputs": [
    {
     "name": "stdout",
     "output_type": "stream",
     "text": [
      "Accuracy on training set: 1.0\n",
      "Accuracy on test set: 0.5\n"
     ]
    }
   ],
   "source": [
    "print('Accuracy on training set:',nb_clf.score(X_train,y_train))\n",
    "print('Accuracy on test set:',nb_clf.score(X_test,y_test))"
   ]
  },
  {
   "cell_type": "markdown",
   "metadata": {},
   "source": [
    "# Random Forest"
   ]
  },
  {
   "cell_type": "code",
   "execution_count": 65,
   "metadata": {},
   "outputs": [
    {
     "data": {
      "text/plain": [
       "RandomForestRegressor(n_estimators=10, random_state=0)"
      ]
     },
     "execution_count": 65,
     "metadata": {},
     "output_type": "execute_result"
    }
   ],
   "source": [
    "from sklearn.ensemble import RandomForestRegressor\n",
    "rf_clf = RandomForestRegressor(n_estimators = 10, random_state = 0)\n",
    "rf_clf.fit(X_train, y_train)"
   ]
  },
  {
   "cell_type": "code",
   "execution_count": 66,
   "metadata": {},
   "outputs": [
    {
     "name": "stdout",
     "output_type": "stream",
     "text": [
      "Accuracy on training set: 0.875\n",
      "Accuracy on test set: -0.9400000000000002\n"
     ]
    }
   ],
   "source": [
    "print('Accuracy on training set:',rf_clf.score(X_train,y_train))\n",
    "print('Accuracy on test set:',rf_clf.score(X_test,y_test))"
   ]
  },
  {
   "cell_type": "markdown",
   "metadata": {},
   "source": [
    "# Decision tree"
   ]
  },
  {
   "cell_type": "code",
   "execution_count": 67,
   "metadata": {},
   "outputs": [
    {
     "data": {
      "text/plain": [
       "DecisionTreeClassifier()"
      ]
     },
     "execution_count": 67,
     "metadata": {},
     "output_type": "execute_result"
    }
   ],
   "source": [
    "from sklearn.tree import DecisionTreeClassifier\n",
    "dec_clf = DecisionTreeClassifier()\n",
    "dec_clf.fit(X_train, y_train)"
   ]
  },
  {
   "cell_type": "code",
   "execution_count": 68,
   "metadata": {},
   "outputs": [
    {
     "name": "stdout",
     "output_type": "stream",
     "text": [
      "Accuracy on training set 1.0\n",
      "Accuracy on test set: 0.5\n"
     ]
    }
   ],
   "source": [
    "print('Accuracy on training set',dec_clf.score(X_train, y_train))\n",
    "print('Accuracy on test set:',dec_clf.score(X_test, y_test))"
   ]
  },
  {
   "cell_type": "markdown",
   "metadata": {},
   "source": [
    "# XgBoost"
   ]
  },
  {
   "cell_type": "code",
   "execution_count": 69,
   "metadata": {},
   "outputs": [
    {
     "data": {
      "text/plain": [
       "XGBClassifier(base_score=0.5, booster='gbtree', colsample_bylevel=1,\n",
       "              colsample_bynode=1, colsample_bytree=1, gamma=0, gpu_id=-1,\n",
       "              importance_type='gain', interaction_constraints='',\n",
       "              learning_rate=0.300000012, max_delta_step=0, max_depth=6,\n",
       "              min_child_weight=1, missing=nan, monotone_constraints='()',\n",
       "              n_estimators=100, n_jobs=0, num_parallel_tree=1, random_state=0,\n",
       "              reg_alpha=0, reg_lambda=1, scale_pos_weight=1, subsample=1,\n",
       "              tree_method='exact', validate_parameters=1, verbosity=None)"
      ]
     },
     "execution_count": 69,
     "metadata": {},
     "output_type": "execute_result"
    }
   ],
   "source": [
    "from xgboost import XGBClassifier\n",
    "xgb_clf= XGBClassifier()\n",
    "xgb_clf.fit(X_train, y_train)"
   ]
  },
  {
   "cell_type": "code",
   "execution_count": 70,
   "metadata": {},
   "outputs": [
    {
     "name": "stdout",
     "output_type": "stream",
     "text": [
      "Accuracy score on train_data:  0.8\n",
      "Accuracy score on test_data:  0.5\n"
     ]
    }
   ],
   "source": [
    "from sklearn.metrics import accuracy_score\n",
    "print('Accuracy score on train_data: ', accuracy_score(y_true = y_train, y_pred = xgb_clf.predict(X_train).round()))\n",
    "print('Accuracy score on test_data: ', accuracy_score(y_true = y_test, y_pred = xgb_clf.predict(X_test).round()))"
   ]
  },
  {
   "cell_type": "markdown",
   "metadata": {},
   "source": [
    "# Ensemble of SVM and Logistic Regression"
   ]
  },
  {
   "cell_type": "code",
   "execution_count": 71,
   "metadata": {},
   "outputs": [
    {
     "data": {
      "text/plain": [
       "VotingClassifier(estimators=[('lr', LogisticRegression(random_state=0)),\n",
       "                             ('nb', GaussianNB()),\n",
       "                             ('decision', DecisionTreeClassifier())])"
      ]
     },
     "execution_count": 71,
     "metadata": {},
     "output_type": "execute_result"
    }
   ],
   "source": [
    "from sklearn.svm import SVC\n",
    "from sklearn.ensemble import VotingClassifier\n",
    "voting_clf = VotingClassifier(\n",
    " estimators=[('lr', lr_clf), ('nb', nb_clf), ('decision', dec_clf)],\n",
    " voting='hard')\n",
    "voting_clf.fit(X_train, y_train)"
   ]
  },
  {
   "cell_type": "code",
   "execution_count": 79,
   "metadata": {},
   "outputs": [
    {
     "data": {
      "text/plain": [
       "pandas.core.series.Series"
      ]
     },
     "execution_count": 79,
     "metadata": {},
     "output_type": "execute_result"
    }
   ],
   "source": [
    "type(y_test)"
   ]
  },
  {
   "cell_type": "code",
   "execution_count": 81,
   "metadata": {},
   "outputs": [
    {
     "data": {
      "text/plain": [
       "array([0], dtype=int64)"
      ]
     },
     "execution_count": 81,
     "metadata": {},
     "output_type": "execute_result"
    }
   ],
   "source": [
    " xgb_clf.predict(pd.Series([-0.85383608, -0.5 , -1.60356745, -0.69040111,  0.36927447,\n",
    "        -1.22474487,  0.77848636, -0.78882797]))"
   ]
  },
  {
   "cell_type": "code",
   "execution_count": 82,
   "metadata": {},
   "outputs": [
    {
     "data": {
      "image/png": "[encoded data removed]",
      "text/plain": [
       "<Figure size 432x288 with 1 Axes>"
      ]
     },
     "metadata": {
      "needs_background": "light"
     },
     "output_type": "display_data"
    }
   ],
   "source": [
    "from matplotlib import pyplot as plt\n",
    "import numpy as np\n",
    "import math #needed for definition of pi\n",
    "x = np.arange(0, math.pi*2, 0.05)\n",
    "y = np.tan(x)\n",
    "plt.plot(x,y)\n",
    "plt.xlabel(\"angle\")\n",
    "plt.ylabel(\"Tan value\")\n",
    "plt.title('Tan wave')\n",
    "plt.show()"
   ]
  },
  {
   "cell_type": "code",
   "execution_count": null,
   "metadata": {},
   "outputs": [],
   "source": []
  }
 ],
 "metadata": {
  "kernelspec": {
   "display_name": "Python 3",
   "language": "python",
   "name": "python3"
  },
  "language_info": {
   "codemirror_mode": {
    "name": "ipython",
    "version": 3
   },
   "file_extension": ".py",
   "mimetype": "text/x-python",
   "name": "python",
   "nbconvert_exporter": "python",
   "pygments_lexer": "ipython3",
   "version": "3.8.3"
  }
 },
 "nbformat": 4,
 "nbformat_minor": 4
}
